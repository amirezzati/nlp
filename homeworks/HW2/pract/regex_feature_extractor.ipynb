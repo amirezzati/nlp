{
  "nbformat": 4,
  "nbformat_minor": 0,
  "metadata": {
    "colab": {
      "provenance": [],
      "collapsed_sections": [
        "aWhtsBGygww-",
        "PTiwdMlap4U7",
        "617a2-66JzhQ",
        "WcnXDr4VZPu7"
      ]
    },
    "kernelspec": {
      "name": "python3",
      "display_name": "Python 3"
    },
    "language_info": {
      "name": "python"
    }
  },
  "cells": [
    {
      "cell_type": "markdown",
      "source": [
        "# **Packages & Libraries**"
      ],
      "metadata": {
        "id": "KG1p5anyeXYV"
      }
    },
    {
      "cell_type": "markdown",
      "source": [
        "## Hazm"
      ],
      "metadata": {
        "id": "aWhtsBGygww-"
      }
    },
    {
      "cell_type": "code",
      "execution_count": null,
      "metadata": {
        "colab": {
          "base_uri": "https://localhost:8080/"
        },
        "id": "_1XVzFfmVinB",
        "outputId": "9f76caff-6209-440e-e91a-b6b36bee0be1"
      },
      "outputs": [
        {
          "output_type": "stream",
          "name": "stdout",
          "text": [
            "Requirement already satisfied: hazm in /usr/local/lib/python3.10/dist-packages (0.10.0)\n",
            "Requirement already satisfied: fasttext-wheel<0.10.0,>=0.9.2 in /usr/local/lib/python3.10/dist-packages (from hazm) (0.9.2)\n",
            "Requirement already satisfied: flashtext<3.0,>=2.7 in /usr/local/lib/python3.10/dist-packages (from hazm) (2.7)\n",
            "Requirement already satisfied: gensim<5.0.0,>=4.3.1 in /usr/local/lib/python3.10/dist-packages (from hazm) (4.3.2)\n",
            "Requirement already satisfied: nltk<4.0.0,>=3.8.1 in /usr/local/lib/python3.10/dist-packages (from hazm) (3.8.1)\n",
            "Requirement already satisfied: numpy==1.24.3 in /usr/local/lib/python3.10/dist-packages (from hazm) (1.24.3)\n",
            "Requirement already satisfied: python-crfsuite<0.10.0,>=0.9.9 in /usr/local/lib/python3.10/dist-packages (from hazm) (0.9.10)\n",
            "Requirement already satisfied: scikit-learn<2.0.0,>=1.2.2 in /usr/local/lib/python3.10/dist-packages (from hazm) (1.2.2)\n",
            "Requirement already satisfied: pybind11>=2.2 in /usr/local/lib/python3.10/dist-packages (from fasttext-wheel<0.10.0,>=0.9.2->hazm) (2.12.0)\n",
            "Requirement already satisfied: setuptools>=0.7.0 in /usr/local/lib/python3.10/dist-packages (from fasttext-wheel<0.10.0,>=0.9.2->hazm) (67.7.2)\n",
            "Requirement already satisfied: scipy>=1.7.0 in /usr/local/lib/python3.10/dist-packages (from gensim<5.0.0,>=4.3.1->hazm) (1.11.4)\n",
            "Requirement already satisfied: smart-open>=1.8.1 in /usr/local/lib/python3.10/dist-packages (from gensim<5.0.0,>=4.3.1->hazm) (6.4.0)\n",
            "Requirement already satisfied: click in /usr/local/lib/python3.10/dist-packages (from nltk<4.0.0,>=3.8.1->hazm) (8.1.7)\n",
            "Requirement already satisfied: joblib in /usr/local/lib/python3.10/dist-packages (from nltk<4.0.0,>=3.8.1->hazm) (1.4.2)\n",
            "Requirement already satisfied: regex>=2021.8.3 in /usr/local/lib/python3.10/dist-packages (from nltk<4.0.0,>=3.8.1->hazm) (2023.12.25)\n",
            "Requirement already satisfied: tqdm in /usr/local/lib/python3.10/dist-packages (from nltk<4.0.0,>=3.8.1->hazm) (4.66.4)\n",
            "Requirement already satisfied: threadpoolctl>=2.0.0 in /usr/local/lib/python3.10/dist-packages (from scikit-learn<2.0.0,>=1.2.2->hazm) (3.5.0)\n"
          ]
        }
      ],
      "source": [
        "pip install hazm"
      ]
    },
    {
      "cell_type": "markdown",
      "source": [
        "## Import & Download hazm models"
      ],
      "metadata": {
        "id": "PTiwdMlap4U7"
      }
    },
    {
      "cell_type": "code",
      "source": [
        "import nltk\n",
        "from nltk.tokenize import sent_tokenize, word_tokenize\n",
        "nltk.download('punkt')\n",
        "import hazm\n",
        "import re\n",
        "import pandas as ps"
      ],
      "metadata": {
        "colab": {
          "base_uri": "https://localhost:8080/"
        },
        "id": "4j5WDLVT2hJs",
        "outputId": "9f5ba669-826c-4947-a6e8-571715512ce6"
      },
      "execution_count": null,
      "outputs": [
        {
          "output_type": "stream",
          "name": "stderr",
          "text": [
            "[nltk_data] Downloading package punkt to /root/nltk_data...\n",
            "[nltk_data]   Package punkt is already up-to-date!\n"
          ]
        }
      ]
    },
    {
      "cell_type": "code",
      "source": [
        "!gdown 1rr7j4FHIumIFmqgVsQHbhU8Q0vv7t1TR"
      ],
      "metadata": {
        "colab": {
          "base_uri": "https://localhost:8080/"
        },
        "id": "ayMYbfq1e3_I",
        "outputId": "0c8505b4-f3e8-4329-ca45-7e27b3e1c42e"
      },
      "execution_count": null,
      "outputs": [
        {
          "output_type": "stream",
          "name": "stdout",
          "text": [
            "Downloading...\n",
            "From: https://drive.google.com/uc?id=1rr7j4FHIumIFmqgVsQHbhU8Q0vv7t1TR\n",
            "To: /content/pos_tagger.model\n",
            "100% 19.2M/19.2M [00:00<00:00, 47.7MB/s]\n"
          ]
        }
      ]
    },
    {
      "cell_type": "code",
      "source": [
        "import gdown\n",
        "gdown.download_folder('https://drive.google.com/drive/folders/1Zjg-rYwSrk4pXwB1Lm3Q6IfHvyxeJspX?usp=drive_link', quiet=True)"
      ],
      "metadata": {
        "colab": {
          "base_uri": "https://localhost:8080/"
        },
        "id": "6Na6p6-CZeHE",
        "outputId": "0616a8cf-a385-4b8a-b0a7-0f3b874ed763"
      },
      "execution_count": null,
      "outputs": [
        {
          "output_type": "execute_result",
          "data": {
            "text/plain": [
              "['/content/universal_dependency_parser/.DS_Store',\n",
              " '/content/universal_dependency_parser/langModel.mco',\n",
              " '/content/universal_dependency_parser/lib/liblinear-1.8.jar',\n",
              " '/content/universal_dependency_parser/lib/libsvm.jar',\n",
              " '/content/universal_dependency_parser/lib/log4j.jar',\n",
              " '/content/universal_dependency_parser/malt-features.xml',\n",
              " '/content/universal_dependency_parser/malt-options.xml',\n",
              " '/content/universal_dependency_parser/malt.jar',\n",
              " '/content/universal_dependency_parser/MaltEval.jar']"
            ]
          },
          "metadata": {},
          "execution_count": 3
        }
      ]
    },
    {
      "cell_type": "markdown",
      "source": [
        "## Stop words"
      ],
      "metadata": {
        "id": "617a2-66JzhQ"
      }
    },
    {
      "cell_type": "code",
      "source": [
        "!wget -O stopwords.txt https://raw.githubusercontent.com/kharazi/persian-stopwords/master/short"
      ],
      "metadata": {
        "colab": {
          "base_uri": "https://localhost:8080/"
        },
        "id": "jSPUA9tFpVpG",
        "outputId": "32db1a6b-0db2-4e90-f7a7-6806d74e518c"
      },
      "execution_count": null,
      "outputs": [
        {
          "output_type": "stream",
          "name": "stdout",
          "text": [
            "--2024-05-19 18:51:13--  https://raw.githubusercontent.com/kharazi/persian-stopwords/master/short\n",
            "Resolving raw.githubusercontent.com (raw.githubusercontent.com)... 185.199.108.133, 185.199.109.133, 185.199.110.133, ...\n",
            "Connecting to raw.githubusercontent.com (raw.githubusercontent.com)|185.199.108.133|:443... connected.\n",
            "HTTP request sent, awaiting response... 200 OK\n",
            "Length: 2945 (2.9K) [text/plain]\n",
            "Saving to: ‘stopwords.txt’\n",
            "\n",
            "stopwords.txt       100%[===================>]   2.88K  --.-KB/s    in 0s      \n",
            "\n",
            "2024-05-19 18:51:13 (29.9 MB/s) - ‘stopwords.txt’ saved [2945/2945]\n",
            "\n"
          ]
        }
      ]
    },
    {
      "cell_type": "code",
      "source": [
        "# /content/augmented_data.txt\n",
        "# !wget https://raw.githubusercontent.com/language-ml/parsi.io/main/parsi_io/modules/product_feature_extractor/data/quality_pre_words.txt\n",
        "# !wget https://github.com/language-ml/parsi.io/blob/main/parsi_io/modules/product_feature_extractor/data/augmented_data.txt\n",
        "!git clone --depth=1 https://github.com/language-ml/parsi.io.git"
      ],
      "metadata": {
        "colab": {
          "base_uri": "https://localhost:8080/"
        },
        "id": "EhtfIOTO3hmB",
        "outputId": "6e97edc0-8609-4650-999e-5d1fc85357b9"
      },
      "execution_count": null,
      "outputs": [
        {
          "output_type": "stream",
          "name": "stdout",
          "text": [
            "Cloning into 'parsi.io'...\n",
            "remote: Enumerating objects: 245, done.\u001b[K\n",
            "remote: Counting objects: 100% (245/245), done.\u001b[K\n",
            "remote: Compressing objects: 100% (213/213), done.\u001b[K\n",
            "remote: Total 245 (delta 14), reused 215 (delta 14), pack-reused 0\u001b[K\n",
            "Receiving objects: 100% (245/245), 42.12 MiB | 15.22 MiB/s, done.\n",
            "Resolving deltas: 100% (14/14), done.\n",
            "Updating files: 100% (217/217), done.\n"
          ]
        }
      ]
    },
    {
      "cell_type": "markdown",
      "source": [
        "# **Sentence tokenizer**"
      ],
      "metadata": {
        "id": "WcnXDr4VZPu7"
      }
    },
    {
      "cell_type": "code",
      "source": [
        "comments = [\n",
        "    'بد نیست کار راه اندازه ',\n",
        "    'با سلام انتخاب خوبی بود به جا',\n",
        "    'طبق ادعای دیجی کالا نات اکتیو بود و از لحاظ قیمتی تو شگفت انگیز خوب بود',\n",
        "    'تازه چند روزه بدستم رسیده تا الان که خوب بوده راضیم',\n",
        "    'گوشی آیفون نیاز به تعریف نداره ، منکه راضی بودم بیشتر دنبال zaa بودم اما دی جی کالا ch موجود داشت نحوه بسته بندی و ارسال عالی',\n",
        "    'ایفون که نیاز به تعریف نداره عالیه',\n",
        "    'خوبه من راضی بودم همه چیز مرتب و بدون ایراد',\n",
        "    'قیمت مناسب نسبت به بازار و نات اکتیو',\n",
        "    'خوب وعالی ومناسب بودممنونم',\n",
        "    'خوبه در کل راضی کننده اس ',\n",
        "    'واقعا عالی بود ممنونم از دیجی کالا',\n",
        "    'همه چی عالی بود',\n",
        "    'من سفارش دادم وقتی بسته رسید دیدم پلمپش باز شده بود که اصلا کار قشنگی نیست برای دیجی کالا و فروشنده',\n",
        "    'باز نشده بود تمیز و سالم بدستم رسید',\n",
        "    'عالی بود سالم و پلمپ به دستم رسیر',\n",
        "    'گوشی خیلی خوبی هست فقط باید حواستون باشه اپل آیدی رو گم نکنید رنگ سبزش خیلی خوش رنگ تر از بقیه رنگ ها هست لوازم جانبی هرچی نیاز دارین از دیجی کالا بگیرید چون بیرون قیمت ها خیلی بالایه',\n",
        "    'عالی نات اکیتو همون روز خرید تحویل شد',\n",
        "    'من توی شگفتانه خریدم تقریبا دو تومن زیر قیمت بازار گرفتم ریجستری هم شد مشکلی نداشت',\n",
        "    'بسیار عالی و باکیفیت نیازی به تعریف نیست',\n",
        "    '۴_۵ساعته برام ارسال شد و گوشی نات اکتیو بودن و ریجستر شد',\n",
        "    'دو هفته دیرتر تحویل دادند.ریجستریش مشکل داشت،کلی وقتم برای یه گوشی تلف شد',\n",
        "    'عالی بود و بر خلاف یسری از نظرات گوشی اصل و پلمپ و نات اکتیو بود و به راحتی ریجستر شد همچنین سالم ممنون از دیجی کالا',\n",
        "    'پیشنهاد میکنم حتما خرید کنید و امیدوارم مثل الماس تو دستتون بدرخشه،👌👍',\n",
        "    'فوق العاده ست اپل',\n",
        "    'تو گوشیهای آیفون موجود و ریجستر شده به روزترینه و نیاز به کاربر معمولی رو برآورده می کنه.',\n",
        "    'امروز رسید دستم خیلی عالی زیبا خوش دست حس خیلی خوبی رو به آدم منتقل میکنه خصوصا اگه مثل من خیلی وقته ذوق داشتنشو دارید ظاهر رنگ سفید استارلایتش فوق العاده جذابه من بین این رنگ و صورتی مونده بودم و خوشحالم این رنگ و انتخاب کردم یکم واسه بحث رجیستریش میترسیدم واسه همین خیلی مردد بودم از کدوم فروشنده بگیرم گارانتیش اوکی باشه . پایاگستر و انتخاب کردم با گارانتی ارتباط ژیوان قبلش سرچ کردم سایتشون اوکی بود و پاسخگوی مشتری هاشون بودن. و خداروشکر رجیستر شد . شماره گارانتی رو توی سا ...',\n",
        "    'مشکل فیس آیدی داشت اصلأ از دیجی‌کالا گوشی نخرید با خیال راحت برید حضوری خرید کنید',\n",
        "    'خرید این گوشی را با توچه به دوربین عالی و با کیفیتش ، سی پی یو قدرتمندش، باتری و شارژدهی مناسبش همچنین نمایشگر باکیفیت و طراحی زیبای آن پیشنهاد میکنم',\n",
        "    'ممنون بابت وقت شناسی برای ارسال دقیق و به موقع و البته بسته بندی مناسب و همچنین پلمپ و سالم بودن دستگاه',\n",
        "    'ایفون دیگه نیازی به چیزی نداره نقاط قوت و ضعفش معلومه فقط اینجا میتونستم نحوه رسیدن و مدت رسیدن و بسته بندی رو بگم که اونا هم عالی بودن تهران بودم شب خریدم فرداش رسید دستم',\n",
        "    'با خیال راحت از دیجی کالا بخرید (خودم با استرس گرفتم ولی خیلی زود رسید و همه چیز خوب بود نات بود بسته بندی مناسب در کل خوب بود همه چیز خرید کنید لذت ببرید)',\n",
        "    'گوشی خوبی هست اما متأسفانه تک‌سیمکارته هست، با اینکه تو اطلاعات فروشش نوشته بود دو‌سیمکارته',\n",
        "    'خرید تو یک روز ‌و تحویل هم در همان روز واقعا عالی و بی نقص ریجستری سریع٫خیلی گوشی خوش دست و عالی هستش',\n",
        "    'لطفا گوشی را در بسته بندی محفوظ تری ارسال کنید . تولید ۲۰۲۴ بود بسته بندی گوشی کاملا پلمپ و سالم ارسال شد',\n",
        "    'دلار گرون میشه به ثانیه نمیکشه گرون میکنن حالا که ارزون شده عین خیالشونم نیست',\n",
        "    'کد فعالسازی رو که وارد میکنم میگه نامعتبر و رجیستر نمیشه',\n",
        "    'به موقع به دستم رسید.من برای همسرم هدیه گرفتم رنگ سبز تیره که خیلی قشنگه. هنوز روشنش نکردیم اما همه چیز اوکی بود ظاهرا&amp;#34;. قیمتش نسبت به بازار ارزونتر بود.',\n",
        "    'همه چیز،عالی بسته بندی ارسال بموقع ممنون از دبجی کالا ممنون از دیجی پی',\n",
        "    'آیفون نیاز به تعریف نداره فقط دوستان بعد از زدن اپل آیدی حتما find my IPhone خاموش کنین تا اپل آیدیتون لاک نشه من از دیجی پی اعتبار گرفتم خیلی خوبه زود اعتبار داد که تونستم بخرم ممنون از دیجی پی😍',\n",
        "    'از همه نظر چک کردم اوکی و نات اکتیو بود ممنون از دیجی....',\n",
        "    'ایفون دیگه نیاز به تعریف نداره ممنون از دیجی بابت ارسال به موقع کالا 🩷👍',\n",
        "    'خیلی راضی ام از خرید این گوشی با تشکر از دیجی کالا',\n",
        "    'سفیدشم تخفیف بذارید لطفااااا',\n",
        "    'به توجه به اینکه سری های جدیدتر این گوشی رجیستر نمیشه و ممکنه از بیرون نتونین پک اصلی رو با اطمینان بخرید، اینجا با اطمینان به مهلت مرجوعی میتونین خریدتون رو انجام بدید. درضمن برای خرید گوشی آیفون که رجیستر بشه، گزینه ی دیگه ای هم نیست که بخواین بهش فکر کنین و همین تنها گزینه موجوده. پس تا گرونتر نشده یا موجودی پک اصلی تمام نشده، خریدتون رو انجام بدید. درمورد خود گوشی هم حرفی برای گفتن نیست و گوشی حرف نداره!',\n",
        "    'در دیجی کالا قیمت خیلی مناسبتر است',\n",
        "    'به شخصه با این طراحی ایفون ۱۳ بیشتر حال میکنم تا ۱۵ متاسفانه به خودم دیجی پی اعتبار نمیداد با حساب پدرم گرفتم! کاش میشد اعتبار رو انتقال داد تا بتونم حداقل با حساب کاربری خودم بگیرم از این فروشنده هم راضیم مشکلی تو کار نبود',\n",
        "    'از نظر من گوشی خوبه‌ایه ولی ارزش خرید نسبت به این قیمت رو نمی‌دونم داره یا نه مثلا ویدیو های افراد رو ببینید و بعد خرید کنید یه عالم ویژگی خوب داره ها ولی زود داغ میکنه ',\n",
        "    'بعد از شش ماه استفاده و رعایت نکاتی که نوشته باید بهش توجه بشه ، سلامت باتری به ۹۱ درصد رسیده و به شدت همیشه موقع استفاده داغ میکنه واقعا نمیدونم ایفون قیمت بالایی ندارد',\n",
        "    'سلام ممنونم از دیجی کالا این سومین گوشی بود ک خریداری کردم از دیجی کالا ولی متاسفانه اینبار مشخصات ناقص بود گوشی یک سیمکارت زد بودن دو سیمکارت',\n",
        "    'من از طریق اعتبار دیجی پی خریدم و واقعا واسم بصرفه تر از خرید قسطی از مغازه بود٫ بسته بندی مشکلی نداشت و به موقع بدستم رسید ٫مشخصات تو سایت چک کردم و سری اصلی بود٫ من رنگ مشکی خریدم ولی رنگ سفید پیشنهاد میکنم و خودم برگردم عقب سفید میگیرم!',\n",
        "\n",
        "    'گوشی واقعا راضی کننده است. باطری گوشی یک روز پر کار رو همراهی میکنه و تو نیم ساعت 50 درصدش پر میشه دوربین فوق العاده ای داره و راضیتون میکنه پردازنده اش اصلا هنگ نمیکنه و داغ نمیشه و برنامه های سنگین رو راحت اجرا میکنه صفحه نمایشش با 900 نیت روشنایی کاملا تصاویر رو با کیفیت و واضع نشون میده. ظاهر کوشی هم خیلی شیک و خوشگله. رابط کاربری روان و حذابی داره. در کل گوشی قابل قبولی است و قیمتش نسبت به مشخصاتش خیلی ارزونه.'\n",
        "]"
      ],
      "metadata": {
        "id": "P2YED8SML1S_"
      },
      "execution_count": null,
      "outputs": []
    },
    {
      "cell_type": "code",
      "source": [
        "normalizer = hazm.Normalizer()\n",
        "lemmatizer = hazm.Lemmatizer()\n",
        "stemmer = hazm.Stemmer()\n",
        "tagger = hazm.POSTagger(model='pos_tagger.model')\n",
        "parser = hazm.DependencyParser(tagger = tagger, lemmatizer = lemmatizer)"
      ],
      "metadata": {
        "id": "bZa-X56TRhmK"
      },
      "execution_count": null,
      "outputs": []
    },
    {
      "cell_type": "code",
      "source": [
        "def persian_sentence_tokenizer(text):\n",
        "  # Define the regex pattern for sentence splitting\n",
        "  conjunction_words = r\"\\s+(?:و|اما|ولی|ولیکن)\\s+\"\n",
        "  pattern = f\"{conjunction_words}|[.؟!]+\"\n",
        "\n",
        "  # Split the text using the pattern\n",
        "  sentences = re.split(pattern, text)\n",
        "\n",
        "  # Remove empty sentences\n",
        "  sentences = [sentence.strip() for sentence in sentences if sentence.strip()]\n",
        "\n",
        "  return sentences\n",
        "\n",
        "\n",
        "def split_sentence_on_verb(sentence):\n",
        "    # Tokenize and tag the sentence\n",
        "    tokens = word_tokenize(sentence)\n",
        "    tagged_tokens = tagger.tag(tokens)\n",
        "\n",
        "    sentences = []\n",
        "    current_sentence = []\n",
        "\n",
        "    for word, tag in tagged_tokens:\n",
        "        current_sentence.append(word)\n",
        "        if tag == 'VERB':\n",
        "            sentences.append(' '.join(current_sentence))\n",
        "            current_sentence = []\n",
        "\n",
        "    # Append the last accumulated sentence if any\n",
        "    if current_sentence:\n",
        "        sentences.append(' '.join(current_sentence))\n",
        "\n",
        "    return sentences\n",
        "\n",
        "\n",
        "def persian_sentence_tokenizer_v3(text):\n",
        "    def contains_verbs(tags):\n",
        "        counter = 0\n",
        "        for tag in tags:\n",
        "            if tag in ['VERB']:\n",
        "                counter += 1\n",
        "                if counter>1:\n",
        "                  return True\n",
        "        return False\n",
        "\n",
        "    def contains_noun_or_ez(tagged_tokens):\n",
        "        for word, tag in tagged_tokens:\n",
        "            if 'NOUN' in tag:\n",
        "                return True\n",
        "        return False\n",
        "\n",
        "\n",
        "    tagger = hazm.POSTagger(model = 'pos_tagger.model')\n",
        "    sentences = []\n",
        "    for sentence in sent_tokenize(text):\n",
        "        tokens = word_tokenize(sentence)\n",
        "        tagged_tokens = tagger.tag(tokens)\n",
        "        tags = [tag for _, tag in tagged_tokens]\n",
        "        if contains_verbs(tags):\n",
        "            temp_sentences = split_sentence_on_verb(sentence)\n",
        "            for temp_sentence in temp_sentences:\n",
        "                temp_tokens = word_tokenize(temp_sentence)\n",
        "                temp_tagged_tokens = tagger.tag(temp_tokens)\n",
        "                if contains_noun_or_ez(temp_tagged_tokens):\n",
        "                    # print(temp_tagged_tokens)\n",
        "                    sentences.append(temp_sentence)\n",
        "                else:\n",
        "                    if sentences[-1]:\n",
        "                        sentences[-1] += (\" و \"+temp_sentence)\n",
        "                    else:\n",
        "                        sentences.append(temp_sentence)\n",
        "        else:\n",
        "          sentences.append(sentence)\n",
        "\n",
        "    return sentences"
      ],
      "metadata": {
        "id": "YoWPVf_-roYM"
      },
      "execution_count": null,
      "outputs": []
    },
    {
      "cell_type": "code",
      "source": [
        "# Example usage\n",
        "sentence = sent_tokenize(comments[50])[1]\n",
        "split_sentences = split_sentence_on_verb(sentence)\n",
        "print(split_sentences)"
      ],
      "metadata": {
        "colab": {
          "base_uri": "https://localhost:8080/"
        },
        "id": "gjH87zAP-lHn",
        "outputId": "92332362-0666-4839-89f6-1941a8884d8a"
      },
      "execution_count": null,
      "outputs": [
        {
          "output_type": "stream",
          "name": "stdout",
          "text": [
            "['باطری گوشی یک روز پر کار رو همراهی میکنه', 'و تو نیم ساعت 50 درصدش پر میشه دوربین فوق العاده ای داره', 'و راضیتون میکنه', 'پردازنده اش اصلا هنگ نمیکنه', 'و داغ نمیشه', 'و برنامه های سنگین رو راحت اجرا میکنه', 'صفحه نمایشش با 900 نیت روشنایی کاملا تصاویر رو با کیفیت و واضع نشون میده', '.']\n"
          ]
        }
      ]
    },
    {
      "cell_type": "code",
      "source": [
        "tokenized_sent = persian_sentence_tokenizer(comments[50])\n",
        "tokenized_sent1 = persian_sentence_tokenizer_v3(comments[50])"
      ],
      "metadata": {
        "id": "CTlw0ZSJ3JSo"
      },
      "execution_count": null,
      "outputs": []
    },
    {
      "cell_type": "code",
      "source": [
        "tokenized_sent"
      ],
      "metadata": {
        "colab": {
          "base_uri": "https://localhost:8080/"
        },
        "id": "xzfKbged3m86",
        "outputId": "966f8c8c-32dd-4e7c-edfb-434a49228edd"
      },
      "execution_count": null,
      "outputs": [
        {
          "output_type": "execute_result",
          "data": {
            "text/plain": [
              "['گوشی واقعا راضی کننده است',\n",
              " 'باطری گوشی یک روز پر کار رو همراهی میکنه',\n",
              " 'تو نیم ساعت 50 درصدش پر میشه دوربین فوق العاده ای داره',\n",
              " 'راضیتون میکنه پردازنده اش اصلا هنگ نمیکنه',\n",
              " 'داغ نمیشه',\n",
              " 'برنامه های سنگین رو راحت اجرا میکنه صفحه نمایشش با 900 نیت روشنایی کاملا تصاویر رو با کیفیت',\n",
              " 'واضع نشون میده',\n",
              " 'ظاهر کوشی هم خیلی شیک',\n",
              " 'خوشگله',\n",
              " 'رابط کاربری روان',\n",
              " 'حذابی داره',\n",
              " 'در کل گوشی قابل قبولی است',\n",
              " 'قیمتش نسبت به مشخصاتش خیلی ارزونه']"
            ]
          },
          "metadata": {},
          "execution_count": 13
        }
      ]
    },
    {
      "cell_type": "code",
      "source": [
        "tokenized_sent1"
      ],
      "metadata": {
        "colab": {
          "base_uri": "https://localhost:8080/"
        },
        "id": "hR-_lR3b33ZD",
        "outputId": "57b7a32a-d63e-424b-c7c3-bd0b01ad4a76"
      },
      "execution_count": null,
      "outputs": [
        {
          "output_type": "execute_result",
          "data": {
            "text/plain": [
              "['گوشی واقعا راضی کننده است.',\n",
              " 'باطری گوشی یک روز پر کار رو همراهی میکنه',\n",
              " 'و تو نیم ساعت 50 درصدش پر میشه دوربین فوق العاده ای داره',\n",
              " 'و راضیتون میکنه',\n",
              " 'پردازنده اش اصلا هنگ نمیکنه و و داغ نمیشه',\n",
              " 'و برنامه های سنگین رو راحت اجرا میکنه',\n",
              " 'صفحه نمایشش با 900 نیت روشنایی کاملا تصاویر رو با کیفیت و واضع نشون میده و .',\n",
              " 'ظاهر کوشی هم خیلی شیک و خوشگله.',\n",
              " 'رابط کاربری روان و حذابی داره.',\n",
              " 'در کل گوشی قابل قبولی است و قیمتش نسبت به مشخصاتش خیلی ارزونه.']"
            ]
          },
          "metadata": {},
          "execution_count": 14
        }
      ]
    },
    {
      "cell_type": "markdown",
      "source": [
        "# **SmartPhoneFeatureExtractor Class**"
      ],
      "metadata": {
        "id": "ruDAGw8eZXcb"
      }
    },
    {
      "cell_type": "code",
      "source": [
        "import re\n",
        "\n",
        "def extract_battery_sentences(sent):\n",
        "    # Keywords related to smartphone battery in Persian\n",
        "    battery_keywords = r'(باتری|باطری|شارژ|شارژدهی|شارژ سریع|شارژ بی‌سیم|شارژر|پاوربانک)'\n",
        "\n",
        "    # Regex pattern to match sentences containing battery-related keywords\n",
        "    pattern = r'\\b(' + battery_keywords + r')\\b'\n",
        "\n",
        "    return re.search(pattern, sent) is None\n",
        "\n",
        "# Example usage\n",
        "persian_comments = \"\"\"\n",
        "گوشی خیلی خوبی است. باتری آن بسیار قوی است و مدت زمان زیادی شارژ نگه می‌دارد.\n",
        "اما در مقایسه با گوشی‌های دیگر، عمر باتری کمتری دارد.\n",
        "شارژر سریع همراه دستگاه بسیار مفید است.\n",
        "\"\"\"\n",
        "\n",
        "extracted_sentences = extract_battery_sentences(tokenized_sent[1])\n"
      ],
      "metadata": {
        "id": "zzJxFLHwnwWu"
      },
      "execution_count": null,
      "outputs": []
    },
    {
      "cell_type": "code",
      "source": [
        "print(extracted_sentences)"
      ],
      "metadata": {
        "colab": {
          "base_uri": "https://localhost:8080/"
        },
        "id": "nNLSElPG33Nr",
        "outputId": "17700697-a07e-4d23-fa8a-09296211fa02"
      },
      "execution_count": null,
      "outputs": [
        {
          "output_type": "stream",
          "name": "stdout",
          "text": [
            "False\n"
          ]
        }
      ]
    },
    {
      "cell_type": "markdown",
      "source": [
        "Please explain by example the functionality of these functions and what are they doing? Explain completely and step by step"
      ],
      "metadata": {
        "id": "zf6CrYI18E_K"
      }
    },
    {
      "cell_type": "code",
      "source": [
        "data_path = '/content/parsi.io/parsi_io/modules/product_feature_extractor/data'\n",
        "\n",
        "class MyNormalizer(hazm.Normalizer):\n",
        "\n",
        "    def __init__(self):\n",
        "        super().__init__()\n",
        "        self.aug_data_init()\n",
        "\n",
        "    def aug_data_init(self):\n",
        "        f = open(f'{data_path}/augmented_data.txt', 'r')\n",
        "        self.aug_data = f.readlines()\n",
        "        f.close()\n",
        "\n",
        "    def replace_with_persian(self, sent):\n",
        "        replace_list = {'ى':'ی',\n",
        "                        'ة':'ه',\n",
        "                        'ي':'ی'}\n",
        "\n",
        "        for x in replace_list:\n",
        "            sent = sent.replace(x, replace_list[x])\n",
        "\n",
        "        return sent\n",
        "\n",
        "\n",
        "    def my_normalize(self, text):\n",
        "        text = self.normalize(text)\n",
        "\n",
        "        aug = {y[0]:y[1] for y in [x.replace('\\n', '').split('\\t') for x in self.aug_data]}\n",
        "\n",
        "        for k in aug:\n",
        "            while k in text:\n",
        "                text = text.replace(k, aug[k])\n",
        "        while '\\u200c' in text:\n",
        "            text = text.replace('\\u200c', ' ')\n",
        "        return text"
      ],
      "metadata": {
        "id": "eXOoZIzISmrg"
      },
      "execution_count": null,
      "outputs": []
    },
    {
      "cell_type": "code",
      "source": [
        "class SmartPhoneFeatureExtractor():\n",
        "    def __init__(self):\n",
        "        self.normalizer = MyNormalizer()\n",
        "\n",
        "    def persian_sentence_tokenizer(self, text):\n",
        "      # Define the regex pattern for sentence splitting\n",
        "      conjunction_words = r\"\\s+(?:و|اما|ولی|ولیکن)\\s+\"\n",
        "      pattern = f\"{conjunction_words}|[.؟!]+\"\n",
        "\n",
        "      # Split the text using the pattern\n",
        "      sentences = re.split(pattern, text)\n",
        "\n",
        "      # Remove empty sentences\n",
        "      sentences = [sentence.strip() for sentence in sentences if sentence.strip()]\n",
        "\n",
        "      return sentences\n",
        "\n",
        "\n",
        "    def sent_normalize(self, sent):\n",
        "        return self.normalizer.my_normalize(sent)\n",
        "\n",
        "\n",
        "    def clean_result(self, text):\n",
        "        for i in range(len(text)):\n",
        "            for base_form in self.quality_base_forms:\n",
        "                text[i] = re.sub(fr\"({base_form[0]})\", f\"{base_form[1]}\", text[i])\n",
        "        return text\n",
        "\n",
        "\n",
        "    def find_words(self, sent, pattern):\n",
        "        matchs = []\n",
        "        for m in re.finditer(pattern, sent):\n",
        "            text = m.group()\n",
        "            sp = list(m.span())\n",
        "            if text[0] == ' ':\n",
        "                sp[0] += 1\n",
        "                text = text[1:]\n",
        "            if text[-1] == ' ':\n",
        "                sp[-1] -= 1\n",
        "                text = text[:-1]\n",
        "            matchs.append([text, sp])\n",
        "        return matchs\n",
        "\n",
        "    def extract_value(self, d: dict):\n",
        "        result = None\n",
        "        for key, value in d.items():\n",
        "            if key != 'not' and value is not None:\n",
        "                result = key\n",
        "            if key == 'not' and value is not None:\n",
        "                result = self.size_not_mapper[result]\n",
        "        return result\n",
        "\n",
        "\n",
        "    def general_opinion(self, text):\n",
        "\n",
        "        noun_phrases = [\n",
        "            r'بنظرم',\n",
        "            r'به نظر من',\n",
        "            r'به نظر میرسه',\n",
        "            r'بنظر',\n",
        "            r'به نظر',\n",
        "            r'به نسبت',\n",
        "            r'نسبت  به بقیه',\n",
        "            r'همه چیز',\n",
        "            r'همه‌چیز',\n",
        "            r'در کل',\n",
        "            r'واقعا',\n",
        "            r'نسبت  به بقیه',\n",
        "            r'از همه نظر',\n",
        "            r'کاملا',\n",
        "        ]\n",
        "\n",
        "        demonstrative_adj = [\n",
        "            r'این',\n",
        "            r'آن',\n",
        "            r'اون',\n",
        "            r'ان',\n",
        "        ]\n",
        "        device_keywords = r\"\\b(گوشی|تلفن همراه|تلفن|موبایل)\\b\"\n",
        "\n",
        "        device_postfix = [\n",
        "            r'ا',\n",
        "            r'\\u200cها',\n",
        "            # r'ا',\n",
        "            # r'ا',\n",
        "            # r'ا',\n",
        "        ]\n",
        "\n",
        "        pos_adj = [\n",
        "            r'خیلی خوب',\n",
        "            r'خیلی عالی',\n",
        "            r'عالی',\n",
        "            r'فوق العاده',\n",
        "            r'بهتر از انتظارم',\n",
        "            r'بی‌نظیر',\n",
        "            r'خوب',\n",
        "            r'راضی کننده',\n",
        "            r'مناسب',\n",
        "            r'درجه یک',\n",
        "        ]\n",
        "\n",
        "        pos_sent = [\n",
        "            r'راضی بود',\n",
        "            r'رضایت داشت',\n",
        "            # r'',\n",
        "        ]\n",
        "        verb_identifier1 = r\"ه|یه\"\n",
        "\n",
        "        verb_identifier2 = [\n",
        "            r\"(م|\\u200cم|)\",\n",
        "            r\"(ند|\\u200cاند)\",\n",
        "        ]\n",
        "\n",
        "        neg_adj = [\n",
        "            r'خیلی بد',\n",
        "            r'بد',\n",
        "            r'بد',\n",
        "            r'افتضاح',\n",
        "            r'ناامید کننده',\n",
        "            r'ضعیف',\n",
        "            r'متوسط',\n",
        "            r'معمولی',\n",
        "            r'نامناسب',\n",
        "        ]\n",
        "\n",
        "        adj_postfix = [\n",
        "            r'ی',\n",
        "            r'ای',\n",
        "            r' ای',\n",
        "            r'\\u200cای'\n",
        "\n",
        "        ]\n",
        "\n",
        "        pos_verb = [\n",
        "            r'بود',\n",
        "            r'هست',\n",
        "            r'است',\n",
        "        ]\n",
        "        neg_verb = [\n",
        "            r'نبود',\n",
        "            r'نیست',\n",
        "        ]\n",
        "\n",
        "        # ساخت پترن های نظرات مثبت\n",
        "        pos_pattern1 = rf\"(?:{'|'.join(noun_phrases)})?{demonstrative_adj}*{device_keywords}{device_postfix}*.*?\\b({'|'.join(pos_adj)})(?:{'|'.join(adj_postfix)})?\\b.*?\\b({'|'.join(pos_verb)})\\b\"\n",
        "        pos_pattern2 = rf\"(?:{'|'.join(noun_phrases)})?{demonstrative_adj}.*?\\b({'|'.join(pos_adj)})(?:{'|'.join(adj_postfix)})?\\b.*?\\b({'|'.join(pos_verb)})\\b\"\n",
        "        pos_pattern3 = rf\"(?:{'|'.join(noun_phrases)})?.*?\\b({'|'.join(pos_adj)})(?:{'|'.join(adj_postfix)})?\\b.*?\\b({'|'.join(pos_verb)})\\b\"\n",
        "        pos_pattern4 = rf\"{'|'.join(noun_phrases)}.*({'|'.join(pos_adj)})(?:{verb_identifier1})?\"\n",
        "        pos_pattern5 = rf\"(?:{'|'.join(noun_phrases)})?.*{device_keywords}{device_postfix}*.*?\\b({'|'.join(pos_sent)})(?:{'|'.join(verb_identifier2)})?\\b.*\"\n",
        "\n",
        "        # ساخت پترن های نظرات منفی\n",
        "        neg_pattern1 = rf\"(?:{'|'.join(noun_phrases)})?{demonstrative_adj}*{device_keywords}{device_postfix}*.*?\\b({'|'.join(neg_adj)})(?:{'|'.join(adj_postfix)})?\\b.*?\\b({'|'.join(pos_verb)})\\b\"\n",
        "        neg_pattern2 = rf\"(?:{'|'.join(noun_phrases)})?{demonstrative_adj}.*?\\b({'|'.join(neg_adj)})(?:{'|'.join(adj_postfix)})?\\b.*?\\b({'|'.join(pos_verb)})\\b\"\n",
        "        neg_pattern3 = rf\"(?:{'|'.join(noun_phrases)})?.*?\\b({'|'.join(neg_adj)})(?:{'|'.join(adj_postfix)})?\\b.*?\\b({'|'.join(pos_verb)})\\b\"\n",
        "        neg_pattern4 = rf\"{'|'.join(noun_phrases)}.*({'|'.join(neg_adj)})(?:{verb_identifier1})?\"\n",
        "        neg_pattern5 = rf\"(?:{'|'.join(noun_phrases)})?{device_keywords}.*?\\b({'|'.join(pos_adj)})(?:{'|'.join(adj_postfix)})?\\b.*?\\b({'|'.join(neg_verb)})\\b\"\n",
        "        neg_pattern6 = rf\"(?:{'|'.join(noun_phrases)})?.*?\\b({'|'.join(pos_adj)})(?:{'|'.join(adj_postfix)})?\\b.*?\\b({'|'.join(neg_verb)})\\b\"\n",
        "\n",
        "\n",
        "        # جستجو برای الگوهای مثبت در متن\n",
        "        positive_matches1 = re.findall(pos_pattern1, text)\n",
        "        positive_matches2 = re.findall(pos_pattern2, text)\n",
        "        positive_matches3 = re.findall(pos_pattern3, text)\n",
        "        positive_matches4 = re.findall(pos_pattern4, text)\n",
        "        positive_matches5 = re.findall(pos_pattern5, text)\n",
        "        # print(positive_matches1, positive_matches2, positive_matches3, positive_matches4, positive_matches5)\n",
        "        # جستجو برای الگوهای منفی در متن\n",
        "        negative_matches1 = re.findall(neg_pattern1, text)\n",
        "        negative_matches2 = re.findall(neg_pattern2, text)\n",
        "        negative_matches3 = re.findall(neg_pattern3, text)\n",
        "        negative_matches4 = re.findall(neg_pattern4, text)\n",
        "        negative_matches5 = re.findall(neg_pattern5, text)\n",
        "        negative_matches6 = re.findall(neg_pattern6, text)\n",
        "\n",
        "        # تعیین نتیجه بر اساس تطابق‌ها\n",
        "        if positive_matches1 or positive_matches2 or positive_matches3 or positive_matches4 or positive_matches5:\n",
        "            result = 'مثبت'\n",
        "        elif negative_matches1 or negative_matches2 or negative_matches3 or negative_matches4 or negative_matches5 or negative_matches6:\n",
        "            result = 'منفی'\n",
        "        else:\n",
        "          result = None\n",
        "\n",
        "        return result, text\n",
        "\n",
        "\n",
        "    def design(self, text):\n",
        "      # Define your regex pattern with conjunction words and dots\n",
        "      design_pattern = r\"(زیبا|خوشگل|زشت|شیک|بدنه|آلومینیوم|ظاهر)\"\n",
        "      conjunction_words = r\"\\s+(و|اما|ولی|لیکن)\\s+\"\n",
        "      split_pattern = f\"{conjunction_words}|[.؟!]+\"\n",
        "\n",
        "      # Define lists of positive and negative words\n",
        "      positive_words = [\"خوب\", \"قشنگ\", \"جذاب\", \"شیک\", \"خوشگل\", \"زیبا\"]\n",
        "      negative_words = [\"ضعیف\", \"مشکل دار\", \"مشکلات\", \"ناراضی\", \"عملکرد ضعیف\" ,\"بد\", \"ضعیف\", \"مشکل دار\", \"مشکلات\", \"بیخود\", \"بیریخت\"]\n",
        "\n",
        "      # Define a list of negative verbs\n",
        "      negative_verbs = [\"ندارد\", \"نداشت\", \"نداره\", \"نیست\", \"نیستش\"]\n",
        "\n",
        "      result = None\n",
        "      if re.search(design_pattern, text):\n",
        "        positive = any(word in sentence for word in positive_words)\n",
        "        negative = any(word in sentence for word in negative_words)\n",
        "        has_negative_verb = any(verb in sentence for verb in negative_verbs)\n",
        "\n",
        "        if positive and not negative and not has_negative_verb:\n",
        "            result = 'مثبت'\n",
        "        elif not positive and negative:\n",
        "            result = 'منفی'\n",
        "        elif has_negative_verb:\n",
        "            result = 'منفی'\n",
        "        else:\n",
        "            result = 'خنثی'\n",
        "\n",
        "      return result, text\n",
        "\n",
        "\n",
        "    def camera(self, text):\n",
        "      # Define your regex pattern with conjunction words and dots\n",
        "      camera_pattern = r\"(عکس|تصویر|رزولوشن|مگاپیکسل|مگا پیکسل|لنز|شاتر|فوکوس|پرتره|دیافراگم|زوم|پیکسل|فلش|فلاش|اولترا واید| اولتراواید|پریسکوپ|تله فوتو|فوتو|فریم|دوربین|عکاسی|فیلم|فریم|سوژه|لرزشگیر|سلفی|فیلمبرداری|فیلم‌برداری|slow-motiom|slow motion|HDR|focus|resolution|pixel)\"\n",
        "      conjunction_words = r\"\\s+(و|اما|ولی|لیکن)\\s+\"\n",
        "      split_pattern = f\"{conjunction_words}|[.؟!]+\"\n",
        "\n",
        "      # Define lists of positive and negative words\n",
        "      positive_words = [\"خفن\" ,\"فوق‌العاده\" ,\"فوق العاده\" ,\"خوب\", \"قشنگ\", \"جذاب\", \"شیک\", \"خوشگل\", \"زیبا\"]\n",
        "      negative_words = [\"ناراضی\", \"عملکرد ضعیف\" ,\"مزخرف\" ,\"چرت\" ,\"بد\", \"ضعیف\", \"مشکل دار\", \"مشکلات\", \"بیخود\", \"بیریخت\"]\n",
        "\n",
        "      # Define a list of negative verbs\n",
        "      negative_verbs = [\"ندارد\", \"نداشت\", \"نداره\", \"نیست\", \"نیستش\"]\n",
        "\n",
        "\n",
        "      result = None\n",
        "      if re.search(camera_pattern, text):\n",
        "        positive = any(word in sentence for word in positive_words)\n",
        "        negative = any(word in sentence for word in negative_words)\n",
        "        has_negative_verb = any(verb in sentence for verb in negative_verbs)\n",
        "\n",
        "        if positive and not negative and not has_negative_verb:\n",
        "            result = 'مثبت'\n",
        "        elif not positive and negative:\n",
        "            result = 'منفی'\n",
        "        elif has_negative_verb:\n",
        "            result = 'منفی'\n",
        "        else:\n",
        "            result = 'خنثی'\n",
        "\n",
        "      return result, text\n",
        "\n",
        "    def battery(self, text):\n",
        "      # Define your regex pattern with conjunction words and dots\n",
        "      battery_pattern = r\"(باتری|باطری|شارژ|شارژر|باتری‌ها|باتریها)\"\n",
        "      conjunction_words = r\"\\s+(و|اما|ولی|لیکن)\\s+\"\n",
        "      split_pattern = f\"{conjunction_words}|[.؟!]+\"\n",
        "\n",
        "      # Define lists of positive and negative words\n",
        "      positive_words = [\"خوب\", \"عالی\", \"ضعیف\", \"قوی\", \"بدون مشکل\", \"عملکرد خوب\"]\n",
        "      negative_words = [\"بد\", \"ضعیف\", \"مشکل دار\", \"مشکلات\", \"ناراضی\", \"عملکرد ضعیف\"]\n",
        "\n",
        "      # Define a list of negative verbs\n",
        "      negative_verbs = [\"ندارد\", \"نداشت\", \"نداره\", \"نیست\", \"نیستش\"]\n",
        "\n",
        "      result = None\n",
        "      if re.search(battery_pattern, text):\n",
        "        positive = any(word in sentence for word in positive_words)\n",
        "        negative = any(word in sentence for word in negative_words)\n",
        "        has_negative_verb = any(verb in sentence for verb in negative_verbs)\n",
        "\n",
        "        if positive and not negative and not has_negative_verb:\n",
        "            result = 'مثبت'\n",
        "        elif not positive and negative:\n",
        "            result = 'منفی'\n",
        "        elif has_negative_verb:\n",
        "            result = 'منفی'\n",
        "        else:\n",
        "            result = 'خنثی'\n",
        "\n",
        "      return result, text\n",
        "\n",
        "    def processor(self, text):\n",
        "      # Define your regex pattern with conjunction words and dots\n",
        "      processor_pattern = r\"(پردازشگر|GPU|انویدیا|chipset|چیپست|core|پردازنده‌|چند هسته‌ای|CPU|اسنپ دراگون|مدیاتک|MIPS|X64|X86|اینتل|ARM|گرافیکی|تراشه|سی پی یو|Exynos|اگزینوس|Mediatek|اسنپدراگون|کوالکام|intel|qualcomm|snapdragon)\"\n",
        "\n",
        "      # Define lists of positive and negative words\n",
        "      positive_words = [\"خوب\", \"عالی\", \"ضعیف\", \"قوی\", \"بدون مشکل\", \"عملکرد خوب\"]\n",
        "      negative_words = [\"بد\", \"ضعیف\", \"مشکل دار\", \"مشکلات\", \"ناراضی\", \"عملکرد ضعیف\"]\n",
        "\n",
        "      # Define a list of negative verbs\n",
        "      negative_verbs = [\"ندارد\", \"نداشت\", \"نداره\", \"نیست\", \"نیستش\"]\n",
        "\n",
        "      result = None\n",
        "      if re.search(processor_pattern, text):\n",
        "        positive = any(word in sentence for word in positive_words)\n",
        "        negative = any(word in sentence for word in negative_words)\n",
        "        has_negative_verb = any(verb in sentence for verb in negative_verbs)\n",
        "\n",
        "        if positive and not negative and not has_negative_verb:\n",
        "            result = 'مثبت'\n",
        "        elif not positive and negative:\n",
        "            result = 'منفی'\n",
        "        elif has_negative_verb:\n",
        "            result = 'منفی'\n",
        "        else:\n",
        "            result = 'خنثی'\n",
        "\n",
        "      return result, text\n",
        "\n",
        "    def size(self, text):\n",
        "      # Define your regex pattern with conjunction words and dots\n",
        "      battery_pattern = r\"(سنگین|وزن|گرم|سبک|جیب|اینچ|بزرگ|کوچک|کوچیک|گنده|خوش دست)\"\n",
        "\n",
        "      # Define lists of positive and negative words\n",
        "      positive_words = [\"خوب\", \"عالی\", \"ضعیف\", \"قوی\", \"بدون مشکل\", \"عملکرد خوب\"]\n",
        "      negative_words = [\"بد\", \"ضعیف\", \"مشکل دار\", \"مشکلات\", \"ناراضی\", \"عملکرد ضعیف\"]\n",
        "\n",
        "      # Define a list of negative verbs\n",
        "      negative_verbs = [\"ندارد\", \"نداشت\", \"نداره\", \"نیست\", \"نیستش\"]\n",
        "\n",
        "      result = None\n",
        "      if re.search(battery_pattern, text):\n",
        "        positive = any(word in sentence for word in positive_words)\n",
        "        negative = any(word in sentence for word in negative_words)\n",
        "        has_negative_verb = any(verb in sentence for verb in negative_verbs)\n",
        "\n",
        "        if positive and not negative and not has_negative_verb:\n",
        "            result = 'مثبت'\n",
        "        elif not positive and negative:\n",
        "            result = 'منفی'\n",
        "        elif has_negative_verb:\n",
        "            result = 'منفی'\n",
        "        else:\n",
        "            result = 'خنثی'\n",
        "\n",
        "      return result, text\n",
        "\n",
        "    def memory(self, text):\n",
        "      # Define your regex pattern with conjunction words and dots\n",
        "      memory_pattern = r\"(رم|حافظه|گیگ|مموری|حافظه جانبی|حافظه داخلی|بایت|گیگا|مگا|ترا|فضا|SD|هارد|ظرفیت ذخیره سازی|استوریج|storage)\"\n",
        "\n",
        "      # Define lists of positive and negative words\n",
        "      positive_words = [\"خوب\", \"عالی\", \"ضعیف\", \"قوی\", \"بدون مشکل\", \"عملکرد خوب\", 'زیاد', 'بالا', 'زیادی', 'بالایی', 'کافی']\n",
        "      negative_words = [\"بد\", \"ضعیف\", \"مشکل دار\", \"مشکلات\", \"ناراضی\", \"عملکرد ضعیف\", 'کم', 'ناکافی', 'محدود']\n",
        "\n",
        "      # Define a list of negative verbs\n",
        "      negative_verbs = [\"ندارد\", \"نداشت\", \"نداره\", \"نیست\", \"نیستش\", ]\n",
        "\n",
        "      result = None\n",
        "      if re.search(memory_pattern, text):\n",
        "        positive = any(word in sentence for word in positive_words)\n",
        "        negative = any(word in sentence for word in negative_words)\n",
        "        has_negative_verb = any(verb in sentence for verb in negative_verbs)\n",
        "\n",
        "        if positive and not negative and not has_negative_verb:\n",
        "            result = 'مثبت'\n",
        "        elif not positive and negative:\n",
        "            result = 'منفی'\n",
        "        elif has_negative_verb:\n",
        "            result = 'منفی'\n",
        "        else:\n",
        "            result = 'خنثی'\n",
        "\n",
        "      return result, text\n",
        "\n",
        "    def screen(self, text):\n",
        "      # Define your regex pattern with conjunction words and dots\n",
        "\n",
        "      # TODO --------------------\n",
        "\n",
        "\n",
        "      screen_pattern = r\"(رم|حافظه|گیگ|مموری|حافظه جانبی|حافظه داخلی|بایت|گیگا|مگا|ترا|فضا|SD|هارد|ظرفیت ذخیره سازی|استوریج|storage)\"\n",
        "\n",
        "      # TODO -----------------------\n",
        "\n",
        "      # Define lists of positive and negative words\n",
        "      positive_words = [\"خوب\", \"عالی\", \"ضعیف\", \"قوی\", \"بدون مشکل\", \"عملکرد خوب\", 'زیاد', 'بالا', 'زیادی', 'بالایی', 'کافی']\n",
        "      negative_words = [\"بد\", \"ضعیف\", \"مشکل دار\", \"مشکلات\", \"ناراضی\", \"عملکرد ضعیف\", 'کم', 'ناکافی', 'محدود']\n",
        "\n",
        "      # Define a list of negative verbs\n",
        "      negative_verbs = [\"ندارد\", \"نداشت\", \"نداره\", \"نیست\", \"نیستش\", ]\n",
        "\n",
        "      result = None\n",
        "      if re.search(screen_pattern, text):\n",
        "        positive = any(word in sentence for word in positive_words)\n",
        "        negative = any(word in sentence for word in negative_words)\n",
        "        has_negative_verb = any(verb in sentence for verb in negative_verbs)\n",
        "\n",
        "        if positive and not negative and not has_negative_verb:\n",
        "            result = 'مثبت'\n",
        "        elif not positive and negative:\n",
        "            result = 'منفی'\n",
        "        elif has_negative_verb:\n",
        "            result = 'منفی'\n",
        "        else:\n",
        "            result = 'خنثی'\n",
        "\n",
        "      return result, text\n",
        "\n",
        "\n",
        "    def run(self, text):\n",
        "        sentences = persian_sentence_tokenizer_v3(text)\n",
        "        result = {}\n",
        "\n",
        "        result[\"نظر کلی\"] = []\n",
        "        for sent in sentences:\n",
        "          general_opinion_res = self.general_opinion(sent)\n",
        "          if general_opinion_res[0]:\n",
        "              result[\"نظر کلی\"].append({\n",
        "                  \"result\": general_opinion_res[0]#TODO\n",
        "                  , \"sentence\": general_opinion_res[1]#TODO\n",
        "                  })\n",
        "\n",
        "        result[\"طراحی\"] = []\n",
        "        for sent in sentences:\n",
        "          design_res = self.design(sent)\n",
        "          if design_res[0]:\n",
        "              result[\"طراحی\"].append({\n",
        "                  \"result\": design_res[0]#TODO\n",
        "                  , \"sentence\": design_res[1]#TODO\n",
        "                  })\n",
        "\n",
        "        result[\"دوربین\"] = []\n",
        "        for sent in sentences:\n",
        "          camera_res = self.camera(sent)\n",
        "          if camera_res[0]:\n",
        "              result[\"دوربین\"].append({\n",
        "                  \"result\": camera_res[0]#TODO\n",
        "                  , \"sentence\": camera_res[1]#TODO\n",
        "                  })\n",
        "\n",
        "        result[\"باطری\"] = []\n",
        "        for sent in sentences:\n",
        "          battery_res = self.battery(sent)\n",
        "          if battery_res[0]:\n",
        "              result[\"باطری\"].append({\n",
        "                  \"result\": battery_res[0]#TODO\n",
        "                  , \"sentence\": battery_res[1]#TODO\n",
        "                  })\n",
        "\n",
        "        result[\"پردازنده\"] = []\n",
        "        for sent in sentences:\n",
        "          processor_res = self.processor(sent)\n",
        "          if processor_res[0]:\n",
        "              result[\"باطری\"].append({\n",
        "                  \"result\": processor_res[0]#TODO\n",
        "                  , \"sentence\": processor_res[1]#TODO\n",
        "                  })\n",
        "\n",
        "        result[\"سایز\"] = []\n",
        "        for sent in sentences:\n",
        "          size_res = self.size(sent)\n",
        "          if size_res[0]:\n",
        "              result[\"باطری\"].append({\n",
        "                  \"result\": size_res[0]#TODO\n",
        "                  , \"sentence\": size_res[1]#TODO\n",
        "                  })\n",
        "\n",
        "        result[\"حافظه\"] = []\n",
        "        for sent in sentences:\n",
        "          memory_res = self.memory(sent)\n",
        "          if memory_res[0]:\n",
        "              result[\"حافظه\"].append({\n",
        "                  \"result\": memory_res[0]#TODO\n",
        "                  , \"sentence\": memory_res[1]#TODO\n",
        "                  })\n",
        "\n",
        "        result[\"صفحه نمایش\"] = []\n",
        "        for sent in sentences:\n",
        "          screen_res = self.screen(sent)\n",
        "          if screen_res[0]:\n",
        "              result[\"صفحه نمایش\"].append({\n",
        "                  \"result\": screen_res[0]#TODO\n",
        "                  , \"sentence\": screen_res[1]#TODO\n",
        "                  })\n",
        "\n",
        "        # feats = list(result.keys())\n",
        "        # cols = ['دسته‌بندی', 'جمله']\n",
        "        # print(feats)\n",
        "        # print(result[feats[0]])\n",
        "        # data_frame = pd.DataFrame(\n",
        "        #                           np.array([[result[feat]['result'], result[feat]['sentence']] for feat in feats]),\n",
        "        #                           columns=cols)\n",
        "\n",
        "\n",
        "        return result\n",
        "\n",
        "\n"
      ],
      "metadata": {
        "id": "yG6z7_C78GgD"
      },
      "execution_count": null,
      "outputs": []
    },
    {
      "cell_type": "code",
      "source": [
        "import numpy as np\n",
        "import pandas as pd"
      ],
      "metadata": {
        "id": "OoFaTaezQ7-a"
      },
      "execution_count": null,
      "outputs": []
    },
    {
      "cell_type": "markdown",
      "source": [
        "# **Initialize model and run**"
      ],
      "metadata": {
        "id": "UAtqNbTcZel1"
      }
    },
    {
      "cell_type": "code",
      "source": [
        "model = SmartPhoneFeatureExtractor()"
      ],
      "metadata": {
        "id": "zLI6z03BLWsX"
      },
      "execution_count": null,
      "outputs": []
    },
    {
      "cell_type": "code",
      "source": [
        "comments = [\n",
        "    'گوشی فوق العاده ای نیست',\n",
        "    'خوبی نیست',\n",
        "    'موبایل بدی است',\n",
        "    'گوشی خوبی هست',\n",
        "    'در کل از گوشی راضی بودند ایش',\n",
        "    'در کل خوب بود',\n",
        "    'همه چیزش خوب بود',\n",
        "    'این خوب نبود',\n",
        "    'گوشی واقعا راضی کننده است. باطری گوشی یک روز پر کار رو همراهی میکنه و تو نیم ساعت 50 درصدش پر میشه دوربین فوق العاده ای داره و راضیتون میکنه پردازنده اش اصلا هنگ نمیکنه و داغ نمیشه و برنامه های سنگین رو راحت اجرا میکنه صفحه نمایشش با 900 نیت روشنایی کاملا تصاویر رو با کیفیت و واضع نشون میده. ظاهر کوشی هم خیلی شیک و خوشگله. رابط کاربری روان و حذابی داره. در کل گوشی قابل قبولی است و قیمتش نسبت به مشخصاتش خیلی ارزونه. در کل خوبه.'\n",
        "]"
      ],
      "metadata": {
        "id": "yFjG6z8vISWn"
      },
      "execution_count": null,
      "outputs": []
    },
    {
      "cell_type": "code",
      "source": [
        "def process_comemnt(model, comment):\n",
        "  normalized_text = model.sent_normalize(comment)\n",
        "  print('input: ', normalized_text)\n",
        "  res = model.run(normalized_text)\n",
        "  print('output: ', )\n",
        "  for feat in res.keys():\n",
        "    print(f'{feat}: {res[feat]}')"
      ],
      "metadata": {
        "id": "9gKgPBDzObD7"
      },
      "execution_count": null,
      "outputs": []
    },
    {
      "cell_type": "code",
      "source": [
        "sents = persian_sentence_tokenizer_v3(comments[-1])\n",
        "sents"
      ],
      "metadata": {
        "colab": {
          "base_uri": "https://localhost:8080/"
        },
        "id": "ijPGjyzoUcTJ",
        "outputId": "3aa91b62-8bcc-4739-e70a-a62565e43d6c"
      },
      "execution_count": null,
      "outputs": [
        {
          "output_type": "execute_result",
          "data": {
            "text/plain": [
              "['گوشی واقعا راضی کننده است.',\n",
              " 'باطری گوشی یک روز پر کار رو همراهی میکنه',\n",
              " 'و تو نیم ساعت 50 درصدش پر میشه دوربین فوق العاده ای داره',\n",
              " 'و راضیتون میکنه',\n",
              " 'پردازنده اش اصلا هنگ نمیکنه و و داغ نمیشه',\n",
              " 'و برنامه های سنگین رو راحت اجرا میکنه',\n",
              " 'صفحه نمایشش با 900 نیت روشنایی کاملا تصاویر رو با کیفیت و واضع نشون میده و .',\n",
              " 'ظاهر کوشی هم خیلی شیک و خوشگله.',\n",
              " 'رابط کاربری روان و حذابی داره.',\n",
              " 'در کل گوشی قابل قبولی است و قیمتش نسبت به مشخصاتش خیلی ارزونه.',\n",
              " 'در کل خوبه.']"
            ]
          },
          "metadata": {},
          "execution_count": 50
        }
      ]
    },
    {
      "cell_type": "code",
      "source": [
        "process_comemnt(model, comments[-1])\n"
      ],
      "metadata": {
        "colab": {
          "base_uri": "https://localhost:8080/"
        },
        "id": "Hgbwl7IdO-rz",
        "outputId": "7942fcc4-d810-4c02-8463-afa428fc8554"
      },
      "execution_count": null,
      "outputs": [
        {
          "output_type": "stream",
          "name": "stdout",
          "text": [
            "input:  گوشی واقعا راضی کنده است. باطری گوشی یک روز پر کار رو همراهی میکنه و تو نیم ساعت ۵۰ درصدش پر میشه دوربین فوق العاده ای داره و راضیتون میکنه پردازنده اش اصلا هنگ نمیکنه و داغ نمیشه و برنامه های سنگین رو راحت اجرا میکنه صفحه نمایشش با ۹۰۰ نیت روشنایی کاملا تصاویر رو با کیفیت و واضع نشون میده. ظاهر کوشی هم خیلی شیک و خوشگله. رابط کاربری روان و حذابی داره. در کل گوشی قابل قبولی است و قیمتش نسبت به مشخصاتش خیلی ارزونه. در کل خوبه.\n",
            "output: \n",
            "نظر کلی: [{'result': 'مثبت', 'sentence': 'گوشی واقعا راضی کنده و است و .'}, {'result': 'مثبت', 'sentence': 'در کل گوشی قابل قبولی است و قیمتش نسبت به مشخصاتش خیلی ارزونه.'}, {'result': 'مثبت', 'sentence': 'در کل خوبه.'}]\n",
            "طراحی: [{'result': 'خنثی', 'sentence': 'ظاهر کوشی هم خیلی شیک و خوشگله.'}]\n",
            "دوربین: [{'result': 'مثبت', 'sentence': 'و تو نیم ساعت ۵۰ درصدش پر میشه دوربین فوق العاده ای داره'}]\n",
            "باطری: [{'result': 'خنثی', 'sentence': 'باطری گوشی یک روز پر کار رو همراهی میکنه'}, {'result': 'خنثی', 'sentence': 'و برنامه های سنگین رو راحت اجرا میکنه'}]\n",
            "پردازنده: []\n",
            "سایز: []\n",
            "حافظه: []\n",
            "صفحه نمایش: []\n"
          ]
        }
      ]
    },
    {
      "cell_type": "code",
      "source": [
        "for com in comments:\n",
        "  process_comemnt(model, com)"
      ],
      "metadata": {
        "colab": {
          "base_uri": "https://localhost:8080/"
        },
        "id": "iECkseoV5v3l",
        "outputId": "08bd3570-edaa-4010-d623-b95fcd915a9b"
      },
      "execution_count": null,
      "outputs": [
        {
          "output_type": "stream",
          "name": "stdout",
          "text": [
            "input:  گوشی فوق العاده ای نیست\n",
            "output: \n",
            "نظر کلی: [{'result': 'منفی', 'sentence': 'گوشی فوق العاده ای نیست'}]\n",
            "طراحی: []\n",
            "دوربین: []\n",
            "باطری: []\n",
            "پردازنده: []\n",
            "سایز: []\n",
            "حافظه: []\n",
            "صفحه نمایش: []\n",
            "input:  خوبی نیست\n",
            "output: \n",
            "نظر کلی: [{'result': 'منفی', 'sentence': 'خوبی نیست'}]\n",
            "طراحی: []\n",
            "دوربین: []\n",
            "باطری: []\n",
            "پردازنده: []\n",
            "سایز: []\n",
            "حافظه: []\n",
            "صفحه نمایش: []\n",
            "input:  موبایل بدی است\n",
            "output: \n",
            "نظر کلی: [{'result': 'منفی', 'sentence': 'موبایل بدی است'}]\n",
            "طراحی: []\n",
            "دوربین: []\n",
            "باطری: []\n",
            "پردازنده: []\n",
            "سایز: []\n",
            "حافظه: []\n",
            "صفحه نمایش: []\n",
            "input:  گوشی خوبی هست\n",
            "output: \n",
            "نظر کلی: [{'result': 'مثبت', 'sentence': 'گوشی خوبی هست'}]\n",
            "طراحی: []\n",
            "دوربین: []\n",
            "باطری: []\n",
            "پردازنده: []\n",
            "سایز: []\n",
            "حافظه: []\n",
            "صفحه نمایش: []\n",
            "input:  در کل از گوشی راضی بودند ایش\n",
            "output: \n",
            "نظر کلی: [{'result': 'مثبت', 'sentence': 'در کل از گوشی راضی بودند ایش'}]\n",
            "طراحی: []\n",
            "دوربین: []\n",
            "باطری: []\n",
            "پردازنده: []\n",
            "سایز: []\n",
            "حافظه: []\n",
            "صفحه نمایش: []\n",
            "input:  در کل خوب بود\n",
            "output: \n",
            "نظر کلی: [{'result': 'مثبت', 'sentence': 'در کل خوب بود'}]\n",
            "طراحی: []\n",
            "دوربین: []\n",
            "باطری: []\n",
            "پردازنده: []\n",
            "سایز: []\n",
            "حافظه: []\n",
            "صفحه نمایش: []\n",
            "input:  همه چیزش خوب بود\n",
            "output: \n",
            "نظر کلی: [{'result': 'مثبت', 'sentence': 'همه چیزش خوب بود'}]\n",
            "طراحی: []\n",
            "دوربین: []\n",
            "باطری: []\n",
            "پردازنده: []\n",
            "سایز: []\n",
            "حافظه: []\n",
            "صفحه نمایش: []\n",
            "input:  این خوب نبود\n",
            "output: \n",
            "نظر کلی: [{'result': 'منفی', 'sentence': 'این خوب نبود'}]\n",
            "طراحی: []\n",
            "دوربین: []\n",
            "باطری: []\n",
            "پردازنده: []\n",
            "سایز: []\n",
            "حافظه: []\n",
            "صفحه نمایش: []\n",
            "input:  گوشی واقعا راضی کنده است. باطری گوشی یک روز پر کار رو همراهی میکنه و تو نیم ساعت ۵۰ درصدش پر میشه دوربین فوق العاده ای داره و راضیتون میکنه پردازنده اش اصلا هنگ نمیکنه و داغ نمیشه و برنامه های سنگین رو راحت اجرا میکنه صفحه نمایشش با ۹۰۰ نیت روشنایی کاملا تصاویر رو با کیفیت و واضع نشون میده. ظاهر کوشی هم خیلی شیک و خوشگله. رابط کاربری روان و حذابی داره. در کل گوشی قابل قبولی است و قیمتش نسبت به مشخصاتش خیلی ارزونه. در کل خوبه.\n",
            "output: \n",
            "نظر کلی: [{'result': 'مثبت', 'sentence': 'گوشی واقعا راضی کنده و است و .'}, {'result': 'مثبت', 'sentence': 'در کل گوشی قابل قبولی است و قیمتش نسبت به مشخصاتش خیلی ارزونه.'}, {'result': 'مثبت', 'sentence': 'در کل خوبه.'}]\n",
            "طراحی: [{'result': 'خنثی', 'sentence': 'ظاهر کوشی هم خیلی شیک و خوشگله.'}]\n",
            "دوربین: [{'result': 'مثبت', 'sentence': 'و تو نیم ساعت ۵۰ درصدش پر میشه دوربین فوق العاده ای داره'}]\n",
            "باطری: [{'result': 'خنثی', 'sentence': 'باطری گوشی یک روز پر کار رو همراهی میکنه'}, {'result': 'خنثی', 'sentence': 'و برنامه های سنگین رو راحت اجرا میکنه'}]\n",
            "پردازنده: []\n",
            "سایز: []\n",
            "حافظه: []\n",
            "صفحه نمایش: []\n"
          ]
        }
      ]
    }
  ]
}